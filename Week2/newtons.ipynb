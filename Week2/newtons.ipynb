{
 "cells": [
  {
   "cell_type": "code",
   "execution_count": 1,
   "metadata": {
    "collapsed": false
   },
   "outputs": [],
   "source": [
    "import numpy as np\n",
    "import get_data as gd\n",
    "import matplotlib.pyplot as plt\n",
    "\n",
    "from matplotlib import style\n",
    "style.use(\"fivethirtyeight\")"
   ]
  },
  {
   "cell_type": "code",
   "execution_count": 2,
   "metadata": {
    "collapsed": false
   },
   "outputs": [
    {
     "name": "stdout",
     "output_type": "stream",
     "text": [
      "DATA loaded with size :  100\n"
     ]
    }
   ],
   "source": [
    "points = gd.run()"
   ]
  },
  {
   "cell_type": "code",
   "execution_count": 3,
   "metadata": {
    "collapsed": true
   },
   "outputs": [],
   "source": [
    "def compute_total_error(m, b):\n",
    "    totalError = 0\n",
    "    for i in range(len(points)):\n",
    "        x = points[i, 0]\n",
    "        y = points[i, 1]\n",
    "        \n",
    "        totalError += (y-(m*x+b))**2\n",
    "    return totalError/float(len(points))\n",
    "\n",
    "def total_error(points_):\n",
    "    return compute_total_error(points_[0], points_[1])"
   ]
  },
  {
   "cell_type": "code",
   "execution_count": 4,
   "metadata": {
    "collapsed": true
   },
   "outputs": [],
   "source": [
    "def compute_jacobian(point_pair, h = 1e-5):\n",
    "    n = len(point_pair)\n",
    "    jacobian = np.zeros(n)\n",
    "    for i in range(n):\n",
    "        x_i = np.zeros(n)\n",
    "        x_i[i] += h \n",
    "        jacobian[i] = (total_error(point_pair+x_i) - total_error(point_pair))/h\n",
    "    return jacobian\n"
   ]
  },
  {
   "cell_type": "code",
   "execution_count": 5,
   "metadata": {
    "collapsed": true
   },
   "outputs": [],
   "source": [
    "def compute_hessian(point_pair, h = 1e-5): \n",
    "    n = len(point_pair)\n",
    "    hessian = np.zeros((n,n))\n",
    "    for i in range(n):\n",
    "        x_i = np.zeros(n)\n",
    "        x_i[i] += h\n",
    "        hessian[i] = (compute_jacobian(point_pair+x_i) - compute_jacobian(point_pair))/h \n",
    "    return hessian\n"
   ]
  },
  {
   "cell_type": "code",
   "execution_count": 6,
   "metadata": {
    "collapsed": true
   },
   "outputs": [],
   "source": [
    "def calc_newton(init_points, max_iter = 10000, e = 1e-5):\n",
    "    point_pair_arr = np.zeros((max_iter, len(init_points)))\n",
    "    point_pair_arr[0] = init_points\n",
    "    opt_val = None\n",
    "    for i in range(max_iter):\n",
    "        jacobian = compute_jacobian(point_pair_arr[i])\n",
    "        hessian = compute_hessian(point_pair_arr[i]) \n",
    "        point_pair_arr[i+1] = point_pair_arr[i] - np.dot(np.linalg.pinv(hessian), jacobian)\n",
    "        print('New m is %.2f and new b is %.2f'%(point_pair_arr[i,0], point_pair_arr[i,1]))\n",
    "        opt_val = point_pair_arr[i+1]\n",
    "        if np.abs(total_error(point_pair_arr[i+1]) - total_error(point_pair_arr[i])) < e:\n",
    "            print('Optimal m is %.2f and Optimal b is %.2f'%(point_pair_arr[i+1,0], point_pair_arr[i+1,1]))\n",
    "            break\n",
    "    return opt_val"
   ]
  },
  {
   "cell_type": "code",
   "execution_count": 7,
   "metadata": {
    "collapsed": true
   },
   "outputs": [],
   "source": [
    "def plot_data(m, b):\n",
    "    X = points[:,0]\n",
    "    Y = points[:,1]\n",
    "    plt.plot(X, Y, 'bo')\n",
    "    plt.plot(X, m * X + b)\n",
    "    plt.axis([0,1.5* max(X), 0, 1.3 * max(Y)])\n",
    "    plt.title(\"Best fit line.\")\n",
    "    plt.text(10, 130, \"m=\"+str(round(m,4))+\"  b=\"+str(round(b,4)) + \" error=\"+str(compute_total_error(m,b)))\n",
    "    plt.show()\n",
    "    return"
   ]
  },
  {
   "cell_type": "code",
   "execution_count": 8,
   "metadata": {
    "collapsed": true
   },
   "outputs": [],
   "source": [
    "def main():\n",
    "    init_points = np.array([0.0, 1.0])\n",
    "    newton_points = calc_newton(init_points, 100)\n",
    "    print('points = ', newton_points[0],' and ',newton_points[1], 'and the error : ', total_error(newton_points))\n",
    "    plot_data(newton_points[0], newton_points[1])\n",
    "    "
   ]
  },
  {
   "cell_type": "code",
   "execution_count": 9,
   "metadata": {
    "collapsed": false
   },
   "outputs": [
    {
     "name": "stdout",
     "output_type": "stream",
     "text": [
      "New m is 0.00 and new b is 1.00\n",
      "New m is 1.36 and new b is 6.27\n",
      "New m is 1.32 and new b is 7.99\n",
      "Optimal m is 1.32 and Optimal b is 8.00\n",
      "points =  1.32229944108  and  7.99746143767 and the error :  110.257385094\n"
     ]
    },
    {
     "data": {
      "image/png": "[encoded data removed]",
      "text/plain": [
       "<matplotlib.figure.Figure at 0x97d58ebe48>"
      ]
     },
     "metadata": {},
     "output_type": "display_data"
    }
   ],
   "source": [
    "main()"
   ]
  },
  {
   "cell_type": "code",
   "execution_count": null,
   "metadata": {
    "collapsed": true
   },
   "outputs": [],
   "source": []
  }
 ],
 "metadata": {
  "anaconda-cloud": {},
  "kernelspec": {
   "display_name": "Python [conda root]",
   "language": "python",
   "name": "conda-root-py"
  },
  "language_info": {
   "codemirror_mode": {
    "name": "ipython",
    "version": 3
   },
   "file_extension": ".py",
   "mimetype": "text/x-python",
   "name": "python",
   "nbconvert_exporter": "python",
   "pygments_lexer": "ipython3",
   "version": "3.5.2"
  }
 },
 "nbformat": 4,
 "nbformat_minor": 2
}
